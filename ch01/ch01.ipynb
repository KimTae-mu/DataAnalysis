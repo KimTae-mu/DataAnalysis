{
 "cells": [
  {
   "cell_type": "code",
   "execution_count": 4,
   "metadata": {
    "collapsed": true
   },
   "outputs": [
    {
     "data": {
      "text/plain": [
       "[(33, 'America/Sao_Paulo'),\n (35, 'Europe/Madrid'),\n (36, 'Pacific/Honolulu'),\n (37, 'Asia/Tokyo'),\n (74, 'Europe/London'),\n (191, 'America/Denver'),\n (382, 'America/Los_Angeles'),\n (400, 'America/Chicago'),\n (521, ''),\n (1251, 'America/New_York')]"
      ]
     },
     "execution_count": 4,
     "metadata": {},
     "output_type": "execute_result"
    }
   ],
   "source": [
    "import json\n",
    "from collections import defaultdict\n",
    "\n",
    "def get_counts(sequence):\n",
    "    counts = {}\n",
    "    for x in sequence:\n",
    "        if x in counts:\n",
    "            counts[x] += 1\n",
    "        else:\n",
    "            counts[x] = 1\n",
    "    return counts\n",
    "\n",
    "'''使用库函数进行的统计'''\n",
    "def get_counts2(sequence):\n",
    "    counts = defaultdict(int)\n",
    "    for x in sequence:\n",
    "        counts[x] += 1\n",
    "    return counts\n",
    "\n",
    "'''获取前十的访问来源'''\n",
    "def top_counts(count_dict,n=10):\n",
    "    value_key_paris = [(count,tz) for tz,count in count_dict.items()]\n",
    "    value_key_paris.sort()\n",
    "    return value_key_paris[-n:]\n",
    "\n",
    "path = 'ch01/usagov_bitly_data2012-03-16-1331923249.txt'\n",
    "\n",
    "'''使用json的库方法对文件内容进行读取，并存放到数组中'''\n",
    "records = [json.loads(line)\n",
    "           for line in open(path)]\n",
    "records[0]\n",
    "\n",
    "records[0]['tz']\n",
    "\n",
    "#print(records[0]['tz'])\n",
    "\n",
    "time_zone = [rec['tz'] for rec in records\n",
    "             if 'tz' in rec]\n",
    "\n",
    "time_zone[:10]\n",
    "\n",
    "counts = get_counts(time_zone)\n",
    "\n",
    "counts['America/New_York']\n",
    "\n",
    "len(time_zone)\n",
    "\n",
    "top_counts(counts)\n",
    "\n"
   ]
  },
  {
   "cell_type": "code",
   "execution_count": 6,
   "metadata": {},
   "outputs": [
    {
     "data": {
      "text/plain": [
       "[('America/New_York', 1251),\n ('', 521),\n ('America/Chicago', 400),\n ('America/Los_Angeles', 382),\n ('America/Denver', 191),\n ('Europe/London', 74),\n ('Asia/Tokyo', 37),\n ('Pacific/Honolulu', 36),\n ('Europe/Madrid', 35),\n ('America/Sao_Paulo', 33)]"
      ]
     },
     "execution_count": 6,
     "metadata": {},
     "output_type": "execute_result"
    }
   ],
   "source": [
    "from collections import Counter\n",
    "'''使用库函数统计前十的区域'''\n",
    "counts = Counter(time_zone)\n",
    "\n",
    "counts.most_common(10)"
   ]
  },
  {
   "cell_type": "code",
   "execution_count": 7,
   "metadata": {},
   "outputs": [
    {
     "data": {
      "text/plain": [
       "America/New_York       1251\n                        521\nAmerica/Chicago         400\nAmerica/Los_Angeles     382\nAmerica/Denver          191\nEurope/London            74\nAsia/Tokyo               37\nPacific/Honolulu         36\nEurope/Madrid            35\nAmerica/Sao_Paulo        33\nName: tz, dtype: int64"
      ]
     },
     "execution_count": 7,
     "metadata": {},
     "output_type": "execute_result"
    }
   ],
   "source": [
    "from pandas import DataFrame,Series\n",
    "import pandas as pd;import numpy as np\n",
    "\n",
    "'''使用pandas对时区进行计数'''\n",
    "\n",
    "frame = DataFrame(records)\n",
    "\n",
    "'''这里frame的输出形式是摘要视图(summary view)，主要用于较大的\n",
    "DataFrame对象。frame['tz']所反悔的Series对象有个value_counts方法'''\n",
    "frame['tz'][:10]\n",
    "\n",
    "tz_counts = frame['tz'].value_counts()\n",
    "\n",
    "tz_counts[:10]"
   ]
  },
  {
   "cell_type": "code",
   "execution_count": 8,
   "metadata": {},
   "outputs": [],
   "source": [
    "clean_tz = frame['tz'].fillna('Missing')\n",
    "\n",
    "clean_tz[clean_tz == ''] = 'Unknown'\n",
    "\n",
    "tz_counts = clean_tz.value_counts()\n",
    "\n",
    "tz_counts[:10]"
   ]
  },
  {
   "cell_type": "code",
   "execution_count": 26,
   "metadata": {},
   "outputs": [
    {
     "data": {
      "text/plain": [
       "'Mozilla/5.0 (Windows NT 5.1; rv:10.0.2) Gecko/20100101 Firefox/10.0.2'"
      ]
     },
     "execution_count": 26,
     "metadata": {},
     "output_type": "execute_result"
    }
   ],
   "source": [
    "from matplotlib.pyplot import *\n",
    "\n",
    "'''利用tz_counts对象的plot方法即可得到一张水平条形图'''\n",
    "tz_counts[:10].plot(kind='barh',rot=0)\n",
    "show()\n"
   ]
  },
  {
   "cell_type": "code",
   "execution_count": 11,
   "metadata": {},
   "outputs": [],
   "source": [
    "frame['a'][1]\n",
    "'''此外，我们还可以对这种数据进行很多处理。比如：a字段含有执行URL短缩\n",
    "操作的浏览器、设备、应用程序等信息'''\n",
    "frame['a'][50]\n",
    "frame['a'][51]"
   ]
  },
  {
   "cell_type": "code",
   "execution_count": null,
   "metadata": {},
   "outputs": [
    {
     "data": {
      "text/plain": [
       "0               Mozilla/5.0\n1    GoogleMaps/RochesterNY\n2               Mozilla/4.0\n3               Mozilla/5.0\n4               Mozilla/5.0\ndtype: object"
      ]
     },
     "execution_count": 14,
     "metadata": {},
     "output_type": "execute_result"
    }
   ],
   "source": [
    "results = Series([x.split()[0] for x in frame.a.dropna()])\n",
    "results[:5]\n",
    "results.value_counts()[:8]"
   ]
  },
  {
   "cell_type": "code",
   "execution_count": null,
   "metadata": {},
   "outputs": [],
   "source": []
  }
 ],
 "metadata": {
  "kernelspec": {
   "display_name": "Python 2",
   "language": "python",
   "name": "python2"
  },
  "language_info": {
   "codemirror_mode": {
    "name": "ipython",
    "version": 2
   },
   "file_extension": ".py",
   "mimetype": "text/x-python",
   "name": "python",
   "nbconvert_exporter": "python",
   "pygments_lexer": "ipython2",
   "version": "2.7.6"
  }
 },
 "nbformat": 4,
 "nbformat_minor": 0
}
